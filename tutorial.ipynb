{
 "cells": [
  {
   "cell_type": "markdown",
   "metadata": {},
   "source": [
    "# Video-CCAM: Enhancing Video-Language Understanding with Causal Cross-Attention Masks for Short and Long Videos\n",
    "\n",
    "This tutorial offers several usage examples, including:\n",
    "* Chat with Video-CCAM\n",
    "* Evaluate Video-CCAM on the supported benchmark"
   ]
  },
  {
   "cell_type": "markdown",
   "metadata": {},
   "source": [
    "## Setup"
   ]
  },
  {
   "cell_type": "code",
   "execution_count": null,
   "metadata": {},
   "outputs": [],
   "source": [
    "%pip install -qU pip torch transformers peft decord pysubs2 imageio"
   ]
  },
  {
   "cell_type": "markdown",
   "metadata": {},
   "source": [
    "## Initialize the Video-CCAM\n",
    "\n",
    "* Download the Video-CCAM models to a local directory"
   ]
  },
  {
   "cell_type": "code",
   "execution_count": null,
   "metadata": {},
   "outputs": [],
   "source": [
    "%%bash\n",
    "HF_HUB_ENABLE_HF_TRANSFER=1 huggingface-cli download JaronTHU/Video-CCAM-4B-v1.1 --local-dir <your_local_path_1>\n",
    "# HF_HUB_ENABLE_HF_TRANSFER=1 huggingface-cli download JaronTHU/Video-CCAM-9B-v1.1 --local-dir <your_local_path_2>\n",
    "# HF_HUB_ENABLE_HF_TRANSFER=1 huggingface-cli download JaronTHU/Video-CCAM-14B-v1.1 --local-dir <your_local_path_3>"
   ]
  },
  {
   "cell_type": "markdown",
   "metadata": {},
   "source": [
    "* Video-CCAM relies on the weights of SigLIP-SO400M, Phi-3-mini-4k-instruct (4B), Yi-1.5-9B-Chat (9B), and Phi-3-medium-4k-instruct (4B). Video-CCAM will automatically download them if they are not in the huggingface cache.\n",
    "* If you have downloaded them before in local directories, local weights will be loaded if `llm_name_or_path` or `vision_encoder_name_or_path` is provided."
   ]
  },
  {
   "cell_type": "code",
   "execution_count": null,
   "metadata": {},
   "outputs": [],
   "source": [
    "import os\n",
    "import torch\n",
    "from transformers import AutoModel\n",
    "\n",
    "os.environ['TOKENIZERS_PARALLELISM'] = 'false'\n",
    "\n",
    "videoccam = AutoModel.from_pretrained(\n",
    "    '<your_local_path>',\n",
    "    trust_remote_code=True,\n",
    "    torch_dtype=torch.bfloat16,\n",
    "    device_map='auto',\n",
    "    _attn_implementation='flash_attention_2',\n",
    "    # llm_name_or_path='<your_local_llm_path>',\n",
    "    # vision_encoder_name_or_path='<your_local_vision_encoder_path>'\n",
    ")"
   ]
  },
  {
   "cell_type": "markdown",
   "metadata": {},
   "source": [
    "## Chat with Video-CCAM"
   ]
  },
  {
   "cell_type": "code",
   "execution_count": null,
   "metadata": {},
   "outputs": [],
   "source": [
    "from PIL import Image\n",
    "from eval import load_decord\n",
    "\n",
    "messages = [\n",
    "    [\n",
    "        {\n",
    "            'role': 'user',\n",
    "            'content': '<image>\\nDescribe this image in detail.'\n",
    "        }\n",
    "    ], [\n",
    "        {\n",
    "            'role': 'user',\n",
    "            'content': '<video>\\nDescribe this video in detail.'\n",
    "        }\n",
    "    ]\n",
    "]\n",
    "\n",
    "images = [\n",
    "    Image.open('assets/example_image.jpg').convert('RGB'),\n",
    "    load_decord('assets/example_video.mp4', sample_type='uniform', num_frames=32)\n",
    "]\n",
    "\n",
    "response = videoccam.chat(messages, images, max_new_tokens=512, do_sample=False)\n",
    "\n",
    "print(response)"
   ]
  },
  {
   "cell_type": "markdown",
   "metadata": {},
   "source": [
    "## Evaluate Video-CCAM on benchmarks"
   ]
  },
  {
   "cell_type": "code",
   "execution_count": null,
   "metadata": {},
   "outputs": [],
   "source": [
    "# MVBench\n",
    "from eval import evaluate_mvbench\n",
    "\n",
    "evaluate_mvbench(\n",
    "    videoccam,\n",
    "    '<mvbench_path>',\n",
    "    '<output_path>',\n",
    "    num_frames=32,\n",
    "    batch_size=2,\n",
    ")"
   ]
  },
  {
   "cell_type": "code",
   "execution_count": null,
   "metadata": {},
   "outputs": [],
   "source": [
    "# Video-MME\n",
    "from eval import evaluate_videomme\n",
    "\n",
    "evaluate_videomme(\n",
    "    videoccam,\n",
    "    '<videomme_path>',\n",
    "    '<output_path>',\n",
    "    sample_config=dict(\n",
    "        sample_type='uniform',\n",
    "        num_frames=96\n",
    "    ),\n",
    "    batch_size=1\n",
    ")"
   ]
  },
  {
   "cell_type": "code",
   "execution_count": null,
   "metadata": {},
   "outputs": [],
   "source": [
    "# MLVU\n",
    "from eval import evaluate_mlvu\n",
    "\n",
    "evaluate_mlvu(\n",
    "    videoccam,\n",
    "    '<mlvu_path>',\n",
    "    '<output_path>',\n",
    "    sample_config=dict(\n",
    "        sample_type='uniform',\n",
    "        num_frames=96\n",
    "    ),\n",
    "    batch_size=1\n",
    ")"
   ]
  },
  {
   "cell_type": "code",
   "execution_count": null,
   "metadata": {},
   "outputs": [],
   "source": [
    "# VideoVista\n",
    "from eval import evaluate_videovista\n",
    "\n",
    "evaluate_videovista(\n",
    "    videoccam,\n",
    "    '<videovista_path>',\n",
    "    '<output_path>',\n",
    "    sample_config=dict(\n",
    "        sample_type='uniform',\n",
    "        num_frames=96\n",
    "    ),\n",
    "    batch_size=1\n",
    ")"
   ]
  }
 ],
 "metadata": {
  "kernelspec": {
   "display_name": "base",
   "language": "python",
   "name": "python3"
  },
  "language_info": {
   "codemirror_mode": {
    "name": "ipython",
    "version": 3
   },
   "file_extension": ".py",
   "mimetype": "text/x-python",
   "name": "python",
   "nbconvert_exporter": "python",
   "pygments_lexer": "ipython3",
   "version": "3.11.5"
  }
 },
 "nbformat": 4,
 "nbformat_minor": 4
}
