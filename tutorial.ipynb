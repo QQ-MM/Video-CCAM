{
 "cells": [
  {
   "cell_type": "markdown",
   "metadata": {},
   "source": [
    "# Video-CCAM: Enhancing Video-Language Understanding with Causal Cross-Attention Masks for Short and Long Videos\n",
    "\n",
    "This tutorial offers several usage examples, including:\n",
    "* Chat with Video-CCAM\n",
    "* Evaluate Video-CCAM on the supported benchmark"
   ]
  },
  {
   "cell_type": "markdown",
   "metadata": {},
   "source": [
    "## Setup"
   ]
  },
  {
   "cell_type": "code",
   "execution_count": null,
   "metadata": {},
   "outputs": [],
   "source": [
    "%pip install -qU pip torch transformers decord pysubs2 imageio accelerate\n",
    "# flash attention support\n",
    "%pip install -q flash-attn --no-build-isolation"
   ]
  },
  {
   "cell_type": "markdown",
   "metadata": {},
   "source": [
    "## Initialize the Video-CCAM\n",
    "\n",
    "* Download the Video-CCAM models to a local directory"
   ]
  },
  {
   "cell_type": "code",
   "execution_count": 1,
   "metadata": {},
   "outputs": [],
   "source": [
    "import os\n",
    "\n",
    "import torch\n",
    "from huggingface_hub import snapshot_download\n",
    "from transformers import AutoImageProcessor, AutoModel, AutoTokenizer\n",
    "\n",
    "os.environ['TOKENIZERS_PARALLELISM'] = 'false'\n",
    "\n",
    "# if you have downloaded this model, just replace the following line with your local path\n",
    "model_path = snapshot_download(repo_id='JaronTHU/Video-CCAM-7B-v1.2')"
   ]
  },
  {
   "cell_type": "code",
   "execution_count": 2,
   "metadata": {},
   "outputs": [
    {
     "data": {
      "application/vnd.jupyter.widget-view+json": {
       "model_id": "c257f7614ed04485ab0909215e012fab",
       "version_major": 2,
       "version_minor": 0
      },
      "text/plain": [
       "Loading checkpoint shards:   0%|          | 0/4 [00:00<?, ?it/s]"
      ]
     },
     "metadata": {},
     "output_type": "display_data"
    }
   ],
   "source": [
    "videoccam = AutoModel.from_pretrained(\n",
    "    model_path,\n",
    "    trust_remote_code=True,\n",
    "    torch_dtype=torch.bfloat16,\n",
    "    device_map='cuda:0',\n",
    "    attn_implementation='flash_attention_2'\n",
    ")\n",
    "\n",
    "tokenizer = AutoTokenizer.from_pretrained(model_path)\n",
    "\n",
    "image_processor = AutoImageProcessor.from_pretrained(model_path)"
   ]
  },
  {
   "cell_type": "markdown",
   "metadata": {},
   "source": [
    "## Chat with Video-CCAM"
   ]
  },
  {
   "cell_type": "code",
   "execution_count": 3,
   "metadata": {},
   "outputs": [
    {
     "name": "stderr",
     "output_type": "stream",
     "text": [
      "Setting `pad_token_id` to `eos_token_id`:None for open-end generation.\n",
      "Starting from v4.46, the `logits` model output will have the same type as the model (except at train time, where it will always be FP32)\n",
      "Setting `pad_token_id` to `eos_token_id`:None for open-end generation.\n"
     ]
    },
    {
     "name": "stdout",
     "output_type": "stream",
     "text": [
      "[\"The image depicts a serene and picturesque landscape featuring a wooden dock extending into a calm lake. The dock is constructed from weathered wooden planks, showing signs of age and exposure to the elements. It leads directly towards a small, distant structure that appears to be a small pier or platform, also made of wood. The water in the lake is still, creating a perfect reflection of the surrounding scenery, including the dock, the distant pier, and the lush greenery.\\n\\nIn the background, a dense forest of evergreen trees stretches across the landscape, leading up to a range of mountains. The mountains are partially covered in snow, indicating a higher altitude and possibly a colder climate. The sky above is overcast, with a blanket of clouds that diffuse the light, giving the scene a soft, muted appearance. The overall atmosphere is tranquil and peaceful, evoking a sense of solitude and natural beauty.\\n\\nThe composition of the image is balanced, with the dock and the pier serving as focal points that draw the viewer's eye towards the distant mountains. The reflection of the dock and the pier in the water adds symmetry to the scene, enhancing its visual appeal. The colors in the image are predominantly cool tones, with the greens of the trees, the blues of the water, and the whites of the snow and clouds creating a harmonious palette.\\n\\nThis image could be representative of a location known for its natural beauty, such as a national park or a remote wilderness area. The presence of the dock suggests that this place might be accessible for recreational activities like fishing, boating, or simply enjoying the peaceful surroundings.\\n\\nIn summary, the image captures a tranquil and picturesque scene of a wooden dock extending into a calm lake, surrounded by a dense forest and mountains, under an overcast sky. The stillness of the water and the symmetry of the composition create a sense of peace and natural beauty.\", '视频中，一只白虎坐在草地上，周围环绕着绿色的灌木。它似乎在四处张望，可能是在观察周围环境或寻找猎物。白虎的毛发是白色的，带有黑色条纹，眼睛睁得很大，显得十分警觉。背景是茂密的绿色植被，包括灌木和树木，为白虎提供了一个自然栖息地。白虎看起来很放松，舒适地待在环境中，享受着阳光。整体而言，这段视频捕捉了白虎在自然栖息地中的宁静时刻。']\n"
     ]
    }
   ],
   "source": [
    "from PIL import Image\n",
    "from eval import load_decord\n",
    "\n",
    "messages = [\n",
    "    [\n",
    "        {\n",
    "            'role': 'user',\n",
    "            'content': '<image>\\nDescribe this image in detail.'\n",
    "        }\n",
    "    ], [\n",
    "        {\n",
    "            'role': 'user',\n",
    "            'content': '<video>\\n请仔细描述这个视频。'\n",
    "        }\n",
    "    ]\n",
    "]\n",
    "\n",
    "images = [\n",
    "    [Image.open('assets/example_image.jpg').convert('RGB')],\n",
    "    load_decord('assets/example_video.mp4', sample_type='uniform', num_frames=32)\n",
    "]\n",
    "\n",
    "response = videoccam.chat(messages, images, tokenizer, image_processor, max_new_tokens=512, do_sample=False)\n",
    "\n",
    "print(response)"
   ]
  },
  {
   "cell_type": "markdown",
   "metadata": {},
   "source": [
    "## Evaluate Video-CCAM on benchmarks"
   ]
  },
  {
   "cell_type": "code",
   "execution_count": null,
   "metadata": {},
   "outputs": [],
   "source": [
    "# MVBench\n",
    "from eval import evaluate_mvbench\n",
    "\n",
    "evaluate_mvbench(\n",
    "    videoccam,\n",
    "    tokenizer,\n",
    "    image_processor,\n",
    "    '<mvbench_path>',\n",
    "    '<output_path>',\n",
    "    num_frames=32,\n",
    "    batch_size=16,\n",
    ")"
   ]
  },
  {
   "cell_type": "code",
   "execution_count": null,
   "metadata": {},
   "outputs": [],
   "source": [
    "# Video-MME\n",
    "from eval import evaluate_videomme\n",
    "\n",
    "evaluate_videomme(\n",
    "    videoccam,\n",
    "    tokenizer,\n",
    "    image_processor,\n",
    "    '<videomme_path>',\n",
    "    '<output_path>',\n",
    "    sample_config=dict(\n",
    "        sample_type='uniform',\n",
    "        num_frames=96\n",
    "    ),\n",
    "    batch_size=1\n",
    ")"
   ]
  },
  {
   "cell_type": "code",
   "execution_count": null,
   "metadata": {},
   "outputs": [],
   "source": [
    "# MLVU\n",
    "from eval import evaluate_mlvu\n",
    "\n",
    "evaluate_mlvu(\n",
    "    videoccam,\n",
    "    tokenizer,\n",
    "    image_processor,\n",
    "    '<mlvu_path>',\n",
    "    '<output_path>',\n",
    "    sample_config=dict(\n",
    "        sample_type='uniform',\n",
    "        num_frames=96\n",
    "    ),\n",
    "    batch_size=1\n",
    ")"
   ]
  },
  {
   "cell_type": "code",
   "execution_count": null,
   "metadata": {},
   "outputs": [],
   "source": [
    "# VideoVista\n",
    "from eval import evaluate_videovista\n",
    "\n",
    "evaluate_videovista(\n",
    "    videoccam,\n",
    "    tokenizer,\n",
    "    image_processor,\n",
    "    '<videovista_path>',\n",
    "    '<output_path>',\n",
    "    sample_config=dict(\n",
    "        sample_type='uniform',\n",
    "        num_frames=96\n",
    "    ),\n",
    "    batch_size=1\n",
    ")"
   ]
  }
 ],
 "metadata": {
  "kernelspec": {
   "display_name": "python(env-novelai)",
   "language": "python",
   "name": "env-novelai"
  },
  "language_info": {
   "codemirror_mode": {
    "name": "ipython",
    "version": 3
   },
   "file_extension": ".py",
   "mimetype": "text/x-python",
   "name": "python",
   "nbconvert_exporter": "python",
   "pygments_lexer": "ipython3",
   "version": "3.10.6"
  }
 },
 "nbformat": 4,
 "nbformat_minor": 4
}
